{
 "cells": [
  {
   "cell_type": "code",
   "execution_count": 1,
   "id": "8e869196",
   "metadata": {},
   "outputs": [],
   "source": [
    "import numpy as np\n",
    "import pandas as pd\n",
    "import matplotlib.pyplot as plt\n",
    "import seaborn as sns\n",
    "import math\n",
    "from sklearn.model_selection import train_test_split\n",
    "import warnings\n",
    "warnings.filterwarnings('ignore')\n",
    "from sklearn.naive_bayes import GaussianNB\n",
    "from sklearn import svm\n"
   ]
  },
  {
   "cell_type": "code",
   "execution_count": 2,
   "id": "467236e5",
   "metadata": {},
   "outputs": [],
   "source": [
    "path = r\"C:\\Users\\yjarrar\\Documents\\pyprojects\\ASS#2\\DataSet.csv\"\n",
    "df=pd.read_csv(path)"
   ]
  },
  {
   "cell_type": "code",
   "execution_count": 3,
   "id": "0787ea6e",
   "metadata": {},
   "outputs": [
    {
     "data": {
      "text/html": [
       "<div>\n",
       "<style scoped>\n",
       "    .dataframe tbody tr th:only-of-type {\n",
       "        vertical-align: middle;\n",
       "    }\n",
       "\n",
       "    .dataframe tbody tr th {\n",
       "        vertical-align: top;\n",
       "    }\n",
       "\n",
       "    .dataframe thead th {\n",
       "        text-align: right;\n",
       "    }\n",
       "</style>\n",
       "<table border=\"1\" class=\"dataframe\">\n",
       "  <thead>\n",
       "    <tr style=\"text-align: right;\">\n",
       "      <th></th>\n",
       "      <th>0</th>\n",
       "      <th>1</th>\n",
       "      <th>2</th>\n",
       "      <th>3</th>\n",
       "      <th>4</th>\n",
       "      <th>5</th>\n",
       "      <th>6</th>\n",
       "      <th>7</th>\n",
       "      <th>8</th>\n",
       "      <th>9</th>\n",
       "      <th>...</th>\n",
       "      <th>11</th>\n",
       "      <th>12</th>\n",
       "      <th>13</th>\n",
       "      <th>14</th>\n",
       "      <th>15</th>\n",
       "      <th>16</th>\n",
       "      <th>17</th>\n",
       "      <th>18</th>\n",
       "      <th>19</th>\n",
       "      <th>20</th>\n",
       "    </tr>\n",
       "  </thead>\n",
       "  <tbody>\n",
       "    <tr>\n",
       "      <th>0</th>\n",
       "      <td>-1.563180</td>\n",
       "      <td>0.889130</td>\n",
       "      <td>-0.066184</td>\n",
       "      <td>0.213090</td>\n",
       "      <td>-1.105378</td>\n",
       "      <td>-0.823811</td>\n",
       "      <td>0.572390</td>\n",
       "      <td>0.650379</td>\n",
       "      <td>-2.399465</td>\n",
       "      <td>0.967247</td>\n",
       "      <td>...</td>\n",
       "      <td>0.236133</td>\n",
       "      <td>1.067034</td>\n",
       "      <td>0.358328</td>\n",
       "      <td>-0.071513</td>\n",
       "      <td>0.033498</td>\n",
       "      <td>-0.397892</td>\n",
       "      <td>1.564167</td>\n",
       "      <td>0.796677</td>\n",
       "      <td>-0.589771</td>\n",
       "      <td>0</td>\n",
       "    </tr>\n",
       "    <tr>\n",
       "      <th>1</th>\n",
       "      <td>0.487244</td>\n",
       "      <td>0.723126</td>\n",
       "      <td>-0.410346</td>\n",
       "      <td>0.205746</td>\n",
       "      <td>-0.430689</td>\n",
       "      <td>0.556690</td>\n",
       "      <td>-0.282686</td>\n",
       "      <td>0.743213</td>\n",
       "      <td>3.568294</td>\n",
       "      <td>-1.304291</td>\n",
       "      <td>...</td>\n",
       "      <td>0.132833</td>\n",
       "      <td>-0.899875</td>\n",
       "      <td>-0.307589</td>\n",
       "      <td>-0.280787</td>\n",
       "      <td>0.636312</td>\n",
       "      <td>0.837123</td>\n",
       "      <td>0.653099</td>\n",
       "      <td>0.560830</td>\n",
       "      <td>1.603049</td>\n",
       "      <td>1</td>\n",
       "    </tr>\n",
       "    <tr>\n",
       "      <th>2</th>\n",
       "      <td>-1.216737</td>\n",
       "      <td>0.263227</td>\n",
       "      <td>0.047519</td>\n",
       "      <td>-0.691492</td>\n",
       "      <td>0.815702</td>\n",
       "      <td>-2.078070</td>\n",
       "      <td>0.979983</td>\n",
       "      <td>0.770997</td>\n",
       "      <td>1.036673</td>\n",
       "      <td>1.018810</td>\n",
       "      <td>...</td>\n",
       "      <td>-0.541987</td>\n",
       "      <td>-1.544878</td>\n",
       "      <td>0.397889</td>\n",
       "      <td>0.090999</td>\n",
       "      <td>1.117576</td>\n",
       "      <td>0.470238</td>\n",
       "      <td>0.404427</td>\n",
       "      <td>-1.624903</td>\n",
       "      <td>0.159953</td>\n",
       "      <td>1</td>\n",
       "    </tr>\n",
       "    <tr>\n",
       "      <th>3</th>\n",
       "      <td>-0.463679</td>\n",
       "      <td>-1.121463</td>\n",
       "      <td>2.008842</td>\n",
       "      <td>-0.651919</td>\n",
       "      <td>-0.254896</td>\n",
       "      <td>-1.157199</td>\n",
       "      <td>1.144751</td>\n",
       "      <td>0.986495</td>\n",
       "      <td>-0.084526</td>\n",
       "      <td>1.605068</td>\n",
       "      <td>...</td>\n",
       "      <td>-0.189889</td>\n",
       "      <td>0.233307</td>\n",
       "      <td>-0.480073</td>\n",
       "      <td>-0.179531</td>\n",
       "      <td>-1.808612</td>\n",
       "      <td>-1.308957</td>\n",
       "      <td>-1.150058</td>\n",
       "      <td>-0.310423</td>\n",
       "      <td>-0.749395</td>\n",
       "      <td>0</td>\n",
       "    </tr>\n",
       "    <tr>\n",
       "      <th>4</th>\n",
       "      <td>-1.170454</td>\n",
       "      <td>-0.439287</td>\n",
       "      <td>-0.327421</td>\n",
       "      <td>0.075073</td>\n",
       "      <td>-0.507101</td>\n",
       "      <td>0.455391</td>\n",
       "      <td>-0.399849</td>\n",
       "      <td>0.671238</td>\n",
       "      <td>0.981226</td>\n",
       "      <td>-0.999953</td>\n",
       "      <td>...</td>\n",
       "      <td>0.313305</td>\n",
       "      <td>0.158874</td>\n",
       "      <td>-1.858308</td>\n",
       "      <td>1.218167</td>\n",
       "      <td>-2.038434</td>\n",
       "      <td>-0.149545</td>\n",
       "      <td>0.307887</td>\n",
       "      <td>-2.271531</td>\n",
       "      <td>0.374542</td>\n",
       "      <td>2</td>\n",
       "    </tr>\n",
       "  </tbody>\n",
       "</table>\n",
       "<p>5 rows × 21 columns</p>\n",
       "</div>"
      ],
      "text/plain": [
       "          0         1         2         3         4         5         6  \\\n",
       "0 -1.563180  0.889130 -0.066184  0.213090 -1.105378 -0.823811  0.572390   \n",
       "1  0.487244  0.723126 -0.410346  0.205746 -0.430689  0.556690 -0.282686   \n",
       "2 -1.216737  0.263227  0.047519 -0.691492  0.815702 -2.078070  0.979983   \n",
       "3 -0.463679 -1.121463  2.008842 -0.651919 -0.254896 -1.157199  1.144751   \n",
       "4 -1.170454 -0.439287 -0.327421  0.075073 -0.507101  0.455391 -0.399849   \n",
       "\n",
       "          7         8         9  ...        11        12        13        14  \\\n",
       "0  0.650379 -2.399465  0.967247  ...  0.236133  1.067034  0.358328 -0.071513   \n",
       "1  0.743213  3.568294 -1.304291  ...  0.132833 -0.899875 -0.307589 -0.280787   \n",
       "2  0.770997  1.036673  1.018810  ... -0.541987 -1.544878  0.397889  0.090999   \n",
       "3  0.986495 -0.084526  1.605068  ... -0.189889  0.233307 -0.480073 -0.179531   \n",
       "4  0.671238  0.981226 -0.999953  ...  0.313305  0.158874 -1.858308  1.218167   \n",
       "\n",
       "         15        16        17        18        19  20  \n",
       "0  0.033498 -0.397892  1.564167  0.796677 -0.589771   0  \n",
       "1  0.636312  0.837123  0.653099  0.560830  1.603049   1  \n",
       "2  1.117576  0.470238  0.404427 -1.624903  0.159953   1  \n",
       "3 -1.808612 -1.308957 -1.150058 -0.310423 -0.749395   0  \n",
       "4 -2.038434 -0.149545  0.307887 -2.271531  0.374542   2  \n",
       "\n",
       "[5 rows x 21 columns]"
      ]
     },
     "execution_count": 3,
     "metadata": {},
     "output_type": "execute_result"
    }
   ],
   "source": [
    "df.head()"
   ]
  },
  {
   "cell_type": "code",
   "execution_count": 4,
   "id": "fe97ea71",
   "metadata": {},
   "outputs": [],
   "source": [
    "y = df.iloc[:,20].values\n",
    "x = df.drop(['20'], axis = 1)"
   ]
  },
  {
   "cell_type": "code",
   "execution_count": 5,
   "id": "4d6cf29f",
   "metadata": {},
   "outputs": [
    {
     "name": "stdout",
     "output_type": "stream",
     "text": [
      "[0 1 2 3]\n"
     ]
    }
   ],
   "source": [
    "classes = pd.unique(y)\n",
    "print(classes)"
   ]
  },
  {
   "cell_type": "code",
   "execution_count": 6,
   "id": "8d62bc82",
   "metadata": {},
   "outputs": [],
   "source": [
    "x_train, x_test, y_train, y_test = train_test_split(x,y,test_size = 0.3,random_state=0)"
   ]
  },
  {
   "cell_type": "code",
   "execution_count": 7,
   "id": "e629da1d",
   "metadata": {},
   "outputs": [],
   "source": [
    "class quadratic_discriminant_analysis:\n",
    "\n",
    "    def covariance(self,x,y):\n",
    "        mean1=x.mean()\n",
    "        mean2=y.mean()\n",
    "        sum=0\n",
    "        for i in range(len(x)):\n",
    "            sum+=x[i]*y[i]\n",
    "        sum/=len(x)\n",
    "        return sum-(mean1*mean2)\n",
    "    def fit(self,x_train,y_train):\n",
    "        self.x_train=x_train\n",
    "        data = x_train.copy(deep=True)\n",
    "        data.insert(20, 20,y_train)\n",
    "        class0 = data.loc[data[20]==0]\n",
    "        class1 = data.loc[data[20]==1]\n",
    "        class2 = data.loc[data[20]==2]\n",
    "        class3 = data.loc[data[20]==3]\n",
    "        class0 = class0.drop([20], axis = 1)\n",
    "        class1 = class1.drop([20], axis = 1)\n",
    "        class2 = class2.drop([20], axis = 1)\n",
    "        class3 = class3.drop([20], axis = 1)\n",
    "        self.class0 = class0\n",
    "        self.class1 = class1\n",
    "        self.class2 = class2\n",
    "        self.class3 = class3\n",
    "        #class0\n",
    "        mean0=[]\n",
    "        for i in class0.columns:\n",
    "            mean0.append(class0[i].mean())\n",
    "\n",
    "        #class1\n",
    "        mean1=[]\n",
    "        for i in class1.columns:\n",
    "            mean1.append(class1[i].mean())\n",
    "\n",
    "        #class2\n",
    "        mean2=[]\n",
    "        for i in class2.columns:\n",
    "            mean2.append(class2[i].mean())\n",
    "\n",
    "        #class3\n",
    "        mean3=[]\n",
    "        for i in class3.columns:\n",
    "            mean3.append(class3[i].mean())\n",
    "        self.mean0 = mean0\n",
    "        self.mean1 = mean1\n",
    "        self.mean2 = mean2\n",
    "        self.mean3 = mean3\n",
    "        #class0\n",
    "        sigma0 = []\n",
    "        for i in range(20):\n",
    "            temp=[]\n",
    "            for j in range(20):\n",
    "                temp.append(self.covariance(class0.iloc[:,i].values,class0.iloc[:,j].values))\n",
    "            sigma0.append(temp.copy())\n",
    "        #class1\n",
    "        sigma1 = []\n",
    "        for i in range(20):\n",
    "            temp=[]\n",
    "            for j in range(20):\n",
    "                temp.append(self.covariance(class1.iloc[:,i].values,class1.iloc[:,j].values))\n",
    "            sigma1.append(temp.copy())\n",
    "        #class2\n",
    "        sigma2 = []\n",
    "        for i in range(20):\n",
    "            temp=[]\n",
    "            for j in range(20):\n",
    "                temp.append(self.covariance(class2.iloc[:,i].values,class2.iloc[:,j].values))\n",
    "            sigma2.append(temp.copy())\n",
    "        #class3\n",
    "        sigma3 = []\n",
    "        for i in range(20):\n",
    "            temp=[]\n",
    "            for j in range(20):\n",
    "                temp.append(self.covariance(class3.iloc[:,i].values,class3.iloc[:,j].values))\n",
    "            sigma3.append(temp.copy())\n",
    "        self.sigma0 = sigma0\n",
    "        self.sigma1 = sigma1\n",
    "        self.sigma2 = sigma2\n",
    "        self.sigma3 = sigma3\n",
    "    def predict(self,X,MU_k, SIGMA,pi_k):\n",
    "        SIGMA_inv = np.linalg.inv(SIGMA)\n",
    "        return (np.log(pi_k) - 1/2 * np.log(np.linalg.det(SIGMA_inv)) - 1/2 * (X - MU_k).T @ SIGMA_inv @ (X - MU_k)).flatten()[0] \n",
    "        \n",
    "    def score(self,x_test,y_test):\n",
    "   \n",
    "        p0= len(self.class0)/len(self.x_train)\n",
    "        p1= len(self.class1)/len(self.x_train)\n",
    "        p2= len(self.class2)/len(self.x_train)\n",
    "        p3= len(self.class3)/len(self.x_train)\n",
    "        sigma0 = np.matrix(self.sigma0)\n",
    "        sigma1 = np.matrix(self.sigma1)\n",
    "        sigma2 = np.matrix(self.sigma2)\n",
    "        sigma3 = np.matrix(self.sigma3)\n",
    "        mean0 = np.array(self.mean0)\n",
    "        mean1 = np.array(self.mean1)\n",
    "        mean2 = np.array(self.mean2)\n",
    "        mean3 = np.array(self.mean3)\n",
    "        count0=len(x_test)\n",
    "        count1=0\n",
    "        vals = np.matrix(x_test)\n",
    "        for i in range(len(x_test)):\n",
    "            result0 = (self.predict(vals[i].flat, mean0,sigma0,p0 ))\n",
    "            max= result0\n",
    "            max_index=0\n",
    "            result1 = (self.predict(vals[i].flat, mean1, sigma1,p1))\n",
    "            if result1 > max:\n",
    "                max= result1\n",
    "                max_index=1\n",
    "            result2 = (self.predict(vals[i].flat, mean2, sigma2,p2))\n",
    "            if result2 > max:\n",
    "                max= result2\n",
    "                max_index=2\n",
    "            result3 = (self.predict(vals[i].flat, mean3, sigma3,p3))\n",
    "            if result3 > max:\n",
    "                max= result3\n",
    "                max_index=3\n",
    "            if max_index == y_test[i]:\n",
    "                count1+=1\n",
    "        return count1/count0\n"
   ]
  },
  {
   "cell_type": "code",
   "execution_count": 8,
   "id": "9762368a",
   "metadata": {},
   "outputs": [],
   "source": [
    "class multivariate_quadratic:\n",
    "     def covariance(self,x,y):\n",
    "\n",
    "        mean1=x.mean()\n",
    "        mean2=y.mean()\n",
    "        sum=0\n",
    "        for i in range(len(x)):\n",
    "            sum+=x[i]*y[i]\n",
    "        sum/=len(x)\n",
    "        return sum-(mean1*mean2)\n",
    "     def fit(self,x_train,y_train):\n",
    "\n",
    "        self.x_train=x_train\n",
    "        data = x_train.copy(deep=True)\n",
    "        data.insert(20, 20,y_train)\n",
    "        class0 = data.loc[data[20]==0]\n",
    "        class1 = data.loc[data[20]==1]\n",
    "        class2 = data.loc[data[20]==2]\n",
    "        class3 = data.loc[data[20]==3]\n",
    "        class0 = class0.drop([20], axis = 1)\n",
    "        class1 = class1.drop([20], axis = 1)\n",
    "        class2 = class2.drop([20], axis = 1)\n",
    "        class3 = class3.drop([20], axis = 1)\n",
    "        self.class0 = class0\n",
    "        self.class1 = class1\n",
    "        self.class2 = class2\n",
    "        self.class3 = class3\n",
    "        #class0\n",
    "        mean0=[]\n",
    "        for i in class0.columns:\n",
    "            mean0.append(class0[i].mean())\n",
    "\n",
    "        #class1\n",
    "        mean1=[]\n",
    "        for i in class1.columns:\n",
    "            mean1.append(class1[i].mean())\n",
    "\n",
    "        #class2\n",
    "        mean2=[]\n",
    "        for i in class2.columns:\n",
    "            mean2.append(class2[i].mean())\n",
    "\n",
    "        #class3\n",
    "        mean3=[]\n",
    "        for i in class3.columns:\n",
    "            mean3.append(class3[i].mean())\n",
    "        self.mean0 = mean0\n",
    "        self.mean1 = mean1\n",
    "        self.mean2 = mean2\n",
    "        self.mean3 = mean3\n",
    "        #class0\n",
    "        sigma0 = []\n",
    "        for i in range(20):\n",
    "            temp=[]\n",
    "            for j in range(20):\n",
    "                temp.append(self.covariance(class0.iloc[:,i].values,class0.iloc[:,j].values))\n",
    "            sigma0.append(temp.copy())\n",
    "        #class1\n",
    "        sigma1 = []\n",
    "        for i in range(20):\n",
    "            temp=[]\n",
    "            for j in range(20):\n",
    "                temp.append(self.covariance(class1.iloc[:,i].values,class1.iloc[:,j].values))\n",
    "            sigma1.append(temp.copy())\n",
    "        #class2\n",
    "        sigma2 = []\n",
    "        for i in range(20):\n",
    "            temp=[]\n",
    "            for j in range(20):\n",
    "                temp.append(self.covariance(class2.iloc[:,i].values,class2.iloc[:,j].values))\n",
    "            sigma2.append(temp.copy())\n",
    "        #class3\n",
    "        sigma3 = []\n",
    "        for i in range(20):\n",
    "            temp=[]\n",
    "            for j in range(20):\n",
    "                temp.append(self.covariance(class3.iloc[:,i].values,class3.iloc[:,j].values))\n",
    "            sigma3.append(temp.copy())\n",
    "        self.sigma0 = sigma0\n",
    "        self.sigma1 = sigma1\n",
    "        self.sigma2 = sigma2\n",
    "        self.sigma3 = sigma3\n",
    "     def predict(self,x, mu, sigma):\n",
    "        size = len(x)\n",
    "        if size == len(mu) and (size, size) == sigma.shape:\n",
    "            det = np.linalg.det(sigma)\n",
    "            norm_const = 1.0/ ( np.power((2*np.pi),float(size)/2) * np.power(det,1.0/2) )\n",
    "            x_mu = np.matrix(x - mu)\n",
    "            inv = sigma.I        \n",
    "            result = np.exp( -0.5 * (x_mu * inv * x_mu.T))\n",
    "            return norm_const * result\n",
    "     def score(self,x_test,y_test):\n",
    "\n",
    "        p0= len(self.class0)/len(self.x_train)\n",
    "        p1= len(self.class1)/len(self.x_train)\n",
    "        p2= len(self.class2)/len(self.x_train)\n",
    "        p3= len(self.class3)/len(self.x_train)\n",
    "        sigma0 = np.matrix(self.sigma0)\n",
    "        sigma1 = np.matrix(self.sigma1)\n",
    "        sigma2 = np.matrix(self.sigma2)\n",
    "        sigma3 = np.matrix(self.sigma3)\n",
    "        mean0 = np.array(self.mean0)\n",
    "        mean1 = np.array(self.mean1)\n",
    "        mean2 = np.array(self.mean2)\n",
    "        mean3 = np.array(self.mean3)\n",
    "        count0=len(x_test)\n",
    "        count1=0\n",
    "        vals = np.matrix(x_test)\n",
    "\n",
    "        for i in range(len(x_test)):\n",
    "            result0 = (self.predict(vals[i].flat, mean0,sigma0 ))\n",
    "            max= result0*p0\n",
    "            max_index=0\n",
    "            result1 = (self.predict(vals[i].flat, mean1, sigma1))\n",
    "            if result1*p1 > max:\n",
    "                max= result1*p1\n",
    "                max_index=1\n",
    "            result2 = (self.predict(vals[i].flat, mean2, sigma2))\n",
    "            if result2*p2 > max:\n",
    "                max= result2*p2\n",
    "                max_index=2\n",
    "            result3 = (self.predict(vals[i].flat, mean3, sigma3))\n",
    "            if result3*p3 > max:\n",
    "                max= result3\n",
    "                max_index=3\n",
    "            if max_index == y_test[i]:\n",
    "                count1+=1\n",
    "        return count1/count0"
   ]
  },
  {
   "cell_type": "code",
   "execution_count": 9,
   "id": "aa7c36f3",
   "metadata": {},
   "outputs": [
    {
     "name": "stdout",
     "output_type": "stream",
     "text": [
      "CPU times: total: 0 ns\n",
      "Wall time: 2 ms\n"
     ]
    }
   ],
   "source": [
    "%%time\n",
    "clf = GaussianNB()\n",
    "clf.fit(x_train, y_train)\n",
    "clfTest=(clf.score(x_test,y_test))\n"
   ]
  },
  {
   "cell_type": "code",
   "execution_count": 10,
   "id": "b5e6f68f",
   "metadata": {},
   "outputs": [
    {
     "name": "stdout",
     "output_type": "stream",
     "text": [
      "CPU times: total: 17.8 s\n",
      "Wall time: 12.1 s\n"
     ]
    }
   ],
   "source": [
    "%%time\n",
    "mq = multivariate_quadratic()\n",
    "mq.fit(x_train, y_train)\n",
    "\n",
    "mqTest=(mq.score(x_test,y_test))"
   ]
  },
  {
   "cell_type": "code",
   "execution_count": 11,
   "id": "3e29e1ff",
   "metadata": {},
   "outputs": [
    {
     "name": "stdout",
     "output_type": "stream",
     "text": [
      "CPU times: total: 18.6 s\n",
      "Wall time: 12.7 s\n"
     ]
    }
   ],
   "source": [
    "%%time\n",
    "qa = quadratic_discriminant_analysis()\n",
    "qa.fit(x_train,y_train)\n",
    "qaTest=(qa.score(x_test,y_test))"
   ]
  },
  {
   "cell_type": "code",
   "execution_count": 12,
   "id": "d93b5f17",
   "metadata": {},
   "outputs": [
    {
     "name": "stdout",
     "output_type": "stream",
     "text": [
      "CPU times: total: 4.16 s\n",
      "Wall time: 4.14 s\n"
     ]
    }
   ],
   "source": [
    "%%time\n",
    "\n",
    "#Create a svm Classifier\n",
    "clv = svm.SVC(kernel='linear') # Linear Kernel\n",
    "\n",
    "#Train the model using the training sets\n",
    "clv.fit(x_train, y_train)\n",
    "\n",
    "#Predict the response for test dataset\n",
    "clvTest = clv.score(x_test, y_test)\n",
    "\n"
   ]
  },
  {
   "cell_type": "code",
   "execution_count": 13,
   "id": "ef293eba",
   "metadata": {},
   "outputs": [],
   "source": [
    "def calc_error(x,y,alg):\n",
    "    result = dict()\n",
    "    result1 = []\n",
    "    result2 = []\n",
    "    result[\"train error\"]= result1\n",
    "    result[\"validation error\"]= result2\n",
    "    for i in range(1,11):\n",
    "        if i !=10:\n",
    "            x_train1, x_test1, y_train1, y_test1 = train_test_split(x,y,test_size = (0.1*i),random_state=0)\n",
    "        if i == 10:\n",
    "            y_test1 = y\n",
    "            x_test1 = x\n",
    "        sumVal=0\n",
    "        sumTrain=0\n",
    "        print(i)\n",
    "        for j in range(1,11):\n",
    "            x_train2, x_test2, y_train2, y_test2 = train_test_split(x_test1,y_test1,test_size = (0.1),random_state=0)\n",
    "            alg.fit(x_train2,y_train2)\n",
    "            sumTrain += (1-alg.score(x_train2,y_train2))\n",
    "            sumVal += (1-alg.score(x_test2,y_test2))\n",
    "        \n",
    "        result1.append(sumTrain/10)\n",
    "        result2.append(sumVal/10)\n",
    "    return result"
   ]
  },
  {
   "cell_type": "code",
   "execution_count": 14,
   "id": "6748be56",
   "metadata": {},
   "outputs": [
    {
     "name": "stdout",
     "output_type": "stream",
     "text": [
      "1\n",
      "2\n",
      "3\n",
      "4\n",
      "5\n",
      "6\n",
      "7\n",
      "8\n",
      "9\n",
      "10\n",
      "CPU times: total: 766 ms\n",
      "Wall time: 783 ms\n"
     ]
    }
   ],
   "source": [
    "%%time\n",
    "clf_error= calc_error(x_train,y_train,clf)"
   ]
  },
  {
   "cell_type": "code",
   "execution_count": 15,
   "id": "638cb738",
   "metadata": {},
   "outputs": [
    {
     "name": "stdout",
     "output_type": "stream",
     "text": [
      "1\n",
      "2\n",
      "3\n",
      "4\n",
      "5\n",
      "6\n",
      "7\n",
      "8\n",
      "9\n",
      "10\n",
      "CPU times: total: 42min 43s\n",
      "Wall time: 26min 34s\n"
     ]
    }
   ],
   "source": [
    "%%time\n",
    "mq_error = calc_error(x_train,y_train,mq)"
   ]
  },
  {
   "cell_type": "code",
   "execution_count": 16,
   "id": "60363fcd",
   "metadata": {},
   "outputs": [
    {
     "name": "stdout",
     "output_type": "stream",
     "text": [
      "1\n",
      "2\n",
      "3\n",
      "4\n",
      "5\n",
      "6\n",
      "7\n",
      "8\n",
      "9\n",
      "10\n",
      "CPU times: total: 41min 24s\n",
      "Wall time: 25min 10s\n"
     ]
    }
   ],
   "source": [
    "%%time\n",
    "qa_error = calc_error(x_train,y_train,qa)"
   ]
  },
  {
   "cell_type": "code",
   "execution_count": 17,
   "id": "9bbc91c9",
   "metadata": {},
   "outputs": [
    {
     "name": "stdout",
     "output_type": "stream",
     "text": [
      "1\n",
      "2\n",
      "3\n",
      "4\n",
      "5\n",
      "6\n",
      "7\n",
      "8\n",
      "9\n",
      "10\n",
      "CPU times: total: 2min 34s\n",
      "Wall time: 2min 34s\n"
     ]
    }
   ],
   "source": [
    "%%time\n",
    "clv_error = calc_error(x_train,y_train,clv)"
   ]
  },
  {
   "cell_type": "code",
   "execution_count": 27,
   "id": "afee7ae1",
   "metadata": {},
   "outputs": [
    {
     "data": {
      "image/png": "[encoded data removed]",
      "text/plain": [
       "<Figure size 432x288 with 1 Axes>"
      ]
     },
     "metadata": {
      "needs_background": "light"
     },
     "output_type": "display_data"
    }
   ],
   "source": [
    "#general Multivariate Gaussian sklearn\n",
    "x1 = [10,20,30,40,50,60,70,80,90,100]\n",
    "y1 = clf_error['train error']\n",
    "# plotting the line 1 points \n",
    "plt.plot(x1, y1, label = \"train error\")\n",
    "# line 2 points\n",
    "x2 = [10,20,30,40,50,60,70,80,90,100]\n",
    "y2 = clf_error['validation error']\n",
    "# plotting the line 2 points \n",
    "plt.plot(x2, y2, label = \"validation error\")\n",
    "plt.xlabel('training set size')\n",
    "# Set the y axis label of the current axis.\n",
    "plt.ylabel('error')\n",
    "# Set a title of the current axes.\n",
    "plt.title('general Multivariate Gaussian sklearn')\n",
    "# show a legend on the plot\n",
    "plt.legend()\n",
    "# Display a figure.\n",
    "plt.show()"
   ]
  },
  {
   "cell_type": "code",
   "execution_count": 28,
   "id": "2b6164bd",
   "metadata": {},
   "outputs": [
    {
     "data": {
      "image/png": "[encoded data removed]",
      "text/plain": [
       "<Figure size 432x288 with 1 Axes>"
      ]
     },
     "metadata": {
      "needs_background": "light"
     },
     "output_type": "display_data"
    }
   ],
   "source": [
    "#general Multivariate Gaussian my implimatation\n",
    "x1 = [10,20,30,40,50,60,70,80,90,100]\n",
    "y1 = mq_error['train error']\n",
    "# plotting the line 1 points \n",
    "plt.plot(x1, y1, label = \"train error\")\n",
    "# line 2 points\n",
    "x2 = [10,20,30,40,50,60,70,80,90,100]\n",
    "y2 = mq_error['validation error']\n",
    "# plotting the line 2 points \n",
    "plt.plot(x2, y2, label = \"validation error\")\n",
    "plt.xlabel('training set size')\n",
    "# Set the y axis label of the current axis.\n",
    "plt.ylabel('error')\n",
    "# Set a title of the current axes.\n",
    "plt.title('general Multivariate Gaussian my implimatation')\n",
    "# show a legend on the plot\n",
    "plt.legend()\n",
    "# Display a figure.\n",
    "plt.show()"
   ]
  },
  {
   "cell_type": "code",
   "execution_count": 29,
   "id": "be1f3fc3",
   "metadata": {},
   "outputs": [
    {
     "data": {
      "image/png": "[encoded data removed]",
      "text/plain": [
       "<Figure size 432x288 with 1 Axes>"
      ]
     },
     "metadata": {
      "needs_background": "light"
     },
     "output_type": "display_data"
    }
   ],
   "source": [
    "#SVM sklean \n",
    "x1 = [10,20,30,40,50,60,70,80,90,100]\n",
    "y1 = clv_error['train error']\n",
    "# plotting the line 1 points \n",
    "plt.plot(x1, y1, label = \"train error\")\n",
    "# line 2 points\n",
    "x2 = [10,20,30,40,50,60,70,80,90,100]\n",
    "y2 = clv_error['validation error']\n",
    "# plotting the line 2 points \n",
    "plt.plot(x2, y2, label = \"validation error\")\n",
    "plt.xlabel('training set size')\n",
    "# Set the y axis label of the current axis.\n",
    "plt.ylabel('error')\n",
    "# Set a title of the current axes.\n",
    "plt.title('SVM sklean')\n",
    "# show a legend on the plot\n",
    "plt.legend()\n",
    "# Display a figure.\n",
    "plt.show()"
   ]
  },
  {
   "cell_type": "code",
   "execution_count": 30,
   "id": "1b33b4ac",
   "metadata": {},
   "outputs": [
    {
     "data": {
      "image/png": "[encoded data removed]",
      "text/plain": [
       "<Figure size 432x288 with 1 Axes>"
      ]
     },
     "metadata": {
      "needs_background": "light"
     },
     "output_type": "display_data"
    }
   ],
   "source": [
    "#quadratic discriminant analysis my implimination\n",
    "x1 = [10,20,30,40,50,60,70,80,90,100]\n",
    "y1 = qa_error['train error']\n",
    "# plotting the line 1 points \n",
    "plt.plot(x1, y1, label = \"train error\")\n",
    "# line 2 points\n",
    "x2 = [10,20,30,40,50,60,70,80,90,100]\n",
    "y2 = qa_error['validation error']\n",
    "# plotting the line 2 points \n",
    "plt.plot(x2, y2, label = \"validation error\")\n",
    "plt.xlabel('training set size')\n",
    "# Set the y axis label of the current axis.\n",
    "plt.ylabel('error')\n",
    "# Set a title of the current axes.\n",
    "plt.title('quadratic discriminant analysis my implimination')\n",
    "# show a legend on the plot\n",
    "plt.legend()\n",
    "# Display a figure.\n",
    "plt.show()"
   ]
  },
  {
   "cell_type": "code",
   "execution_count": 34,
   "id": "bb9d7bb3",
   "metadata": {},
   "outputs": [
    {
     "name": "stdout",
     "output_type": "stream",
     "text": [
      "0.7571111111111111\n",
      "0.7651111111111111\n",
      "0.7671111111111111\n",
      "0.7455555555555555\n"
     ]
    }
   ],
   "source": [
    "print(clfTest)\n",
    "print(mqTest)\n",
    "print(clvTest)\n",
    "print(qaTest)"
   ]
  },
  {
   "cell_type": "code",
   "execution_count": null,
   "id": "6d662717",
   "metadata": {},
   "outputs": [],
   "source": []
  }
 ],
 "metadata": {
  "kernelspec": {
   "display_name": "Python 3 (ipykernel)",
   "language": "python",
   "name": "python3"
  },
  "language_info": {
   "codemirror_mode": {
    "name": "ipython",
    "version": 3
   },
   "file_extension": ".py",
   "mimetype": "text/x-python",
   "name": "python",
   "nbconvert_exporter": "python",
   "pygments_lexer": "ipython3",
   "version": "3.10.4"
  }
 },
 "nbformat": 4,
 "nbformat_minor": 5
}
